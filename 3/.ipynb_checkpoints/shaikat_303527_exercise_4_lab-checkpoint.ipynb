{
 "cells": [
  {
   "cell_type": "markdown",
   "metadata": {},
   "source": [
    "# Data preprocessing\n",
    "## Preprocessing Airfare dataset\n",
    "The data is loaded in tictactoe dataframe"
   ]
  },
  {
   "cell_type": "code",
   "execution_count": 1,
   "metadata": {},
   "outputs": [
    {
     "data": {
      "text/html": [
       "<div>\n",
       "<style scoped>\n",
       "    .dataframe tbody tr th:only-of-type {\n",
       "        vertical-align: middle;\n",
       "    }\n",
       "\n",
       "    .dataframe tbody tr th {\n",
       "        vertical-align: top;\n",
       "    }\n",
       "\n",
       "    .dataframe thead th {\n",
       "        text-align: right;\n",
       "    }\n",
       "</style>\n",
       "<table border=\"1\" class=\"dataframe\">\n",
       "  <thead>\n",
       "    <tr style=\"text-align: right;\">\n",
       "      <th></th>\n",
       "      <th>top-left-square</th>\n",
       "      <th>top-middle-square</th>\n",
       "      <th>top-right-square</th>\n",
       "      <th>middle-left-square</th>\n",
       "      <th>middle-middle-square</th>\n",
       "      <th>middle-right-square</th>\n",
       "      <th>bottom-left-square</th>\n",
       "      <th>bottom-middle-square</th>\n",
       "      <th>bottom-right-square</th>\n",
       "      <th>Class</th>\n",
       "    </tr>\n",
       "  </thead>\n",
       "  <tbody>\n",
       "    <tr>\n",
       "      <th>0</th>\n",
       "      <td>x</td>\n",
       "      <td>x</td>\n",
       "      <td>x</td>\n",
       "      <td>x</td>\n",
       "      <td>o</td>\n",
       "      <td>o</td>\n",
       "      <td>x</td>\n",
       "      <td>o</td>\n",
       "      <td>o</td>\n",
       "      <td>positive</td>\n",
       "    </tr>\n",
       "    <tr>\n",
       "      <th>1</th>\n",
       "      <td>x</td>\n",
       "      <td>x</td>\n",
       "      <td>x</td>\n",
       "      <td>x</td>\n",
       "      <td>o</td>\n",
       "      <td>o</td>\n",
       "      <td>o</td>\n",
       "      <td>x</td>\n",
       "      <td>o</td>\n",
       "      <td>positive</td>\n",
       "    </tr>\n",
       "    <tr>\n",
       "      <th>2</th>\n",
       "      <td>x</td>\n",
       "      <td>x</td>\n",
       "      <td>x</td>\n",
       "      <td>x</td>\n",
       "      <td>o</td>\n",
       "      <td>o</td>\n",
       "      <td>o</td>\n",
       "      <td>o</td>\n",
       "      <td>x</td>\n",
       "      <td>positive</td>\n",
       "    </tr>\n",
       "    <tr>\n",
       "      <th>3</th>\n",
       "      <td>x</td>\n",
       "      <td>x</td>\n",
       "      <td>x</td>\n",
       "      <td>x</td>\n",
       "      <td>o</td>\n",
       "      <td>o</td>\n",
       "      <td>o</td>\n",
       "      <td>b</td>\n",
       "      <td>b</td>\n",
       "      <td>positive</td>\n",
       "    </tr>\n",
       "    <tr>\n",
       "      <th>4</th>\n",
       "      <td>x</td>\n",
       "      <td>x</td>\n",
       "      <td>x</td>\n",
       "      <td>x</td>\n",
       "      <td>o</td>\n",
       "      <td>o</td>\n",
       "      <td>b</td>\n",
       "      <td>o</td>\n",
       "      <td>b</td>\n",
       "      <td>positive</td>\n",
       "    </tr>\n",
       "  </tbody>\n",
       "</table>\n",
       "</div>"
      ],
      "text/plain": [
       "  top-left-square top-middle-square top-right-square middle-left-square  \\\n",
       "0               x                 x                x                  x   \n",
       "1               x                 x                x                  x   \n",
       "2               x                 x                x                  x   \n",
       "3               x                 x                x                  x   \n",
       "4               x                 x                x                  x   \n",
       "\n",
       "  middle-middle-square middle-right-square bottom-left-square  \\\n",
       "0                    o                   o                  x   \n",
       "1                    o                   o                  o   \n",
       "2                    o                   o                  o   \n",
       "3                    o                   o                  o   \n",
       "4                    o                   o                  b   \n",
       "\n",
       "  bottom-middle-square bottom-right-square     Class  \n",
       "0                    o                   o  positive  \n",
       "1                    x                   o  positive  \n",
       "2                    o                   x  positive  \n",
       "3                    b                   b  positive  \n",
       "4                    o                   b  positive  "
      ]
     },
     "execution_count": 1,
     "metadata": {},
     "output_type": "execute_result"
    }
   ],
   "source": [
    "import pandas as pd\n",
    "import numpy as np\n",
    "import seaborn as sns\n",
    "import matplotlib.pyplot as plt\n",
    "pd.options.mode.chained_assignment = None\n",
    "from sklearn.model_selection import train_test_split\n",
    "\n",
    "colnames=['top-left-square','top-middle-square','top-right-square','middle-left-square','middle-middle-square','middle-right-square','bottom-left-square','bottom-middle-square','bottom-right-square','Class']\n",
    "filename = r\"E:\\Documents\\University of Hildesheim\\Machine learning lab\\lab4\\tic-tac-toe.data\"\n",
    "tictactoe = pd.read_csv(filename,delimiter=',',header=None,names=colnames)\n",
    "tictactoe.head()"
   ]
  },
  {
   "cell_type": "markdown",
   "metadata": {},
   "source": [
    "# Data Analysis\n",
    "### The dataset has no missing values and all the columns with object values, these could be treated as categorical."
   ]
  },
  {
   "cell_type": "code",
   "execution_count": 2,
   "metadata": {},
   "outputs": [
    {
     "name": "stdout",
     "output_type": "stream",
     "text": [
      "<class 'pandas.core.frame.DataFrame'>\n",
      "RangeIndex: 958 entries, 0 to 957\n",
      "Data columns (total 10 columns):\n",
      "top-left-square         958 non-null object\n",
      "top-middle-square       958 non-null object\n",
      "top-right-square        958 non-null object\n",
      "middle-left-square      958 non-null object\n",
      "middle-middle-square    958 non-null object\n",
      "middle-right-square     958 non-null object\n",
      "bottom-left-square      958 non-null object\n",
      "bottom-middle-square    958 non-null object\n",
      "bottom-right-square     958 non-null object\n",
      "Class                   958 non-null object\n",
      "dtypes: object(10)\n",
      "memory usage: 74.9+ KB\n"
     ]
    }
   ],
   "source": [
    "tictactoe.info()"
   ]
  },
  {
   "cell_type": "code",
   "execution_count": 3,
   "metadata": {},
   "outputs": [],
   "source": [
    "tictactoe = tictactoe.astype('category')"
   ]
  },
  {
   "cell_type": "markdown",
   "metadata": {},
   "source": [
    "What can be experimented with is a simple categorical encoding, wherein each unique entry is assigned it's own number. Pandas does with relative ease by assigning desired object columns to a category dtype"
   ]
  },
  {
   "cell_type": "code",
   "execution_count": 4,
   "metadata": {},
   "outputs": [
    {
     "data": {
      "text/plain": [
       "top-left-square         category\n",
       "top-middle-square       category\n",
       "top-right-square        category\n",
       "middle-left-square      category\n",
       "middle-middle-square    category\n",
       "middle-right-square     category\n",
       "bottom-left-square      category\n",
       "bottom-middle-square    category\n",
       "bottom-right-square     category\n",
       "Class                   category\n",
       "dtype: object"
      ]
     },
     "execution_count": 4,
     "metadata": {},
     "output_type": "execute_result"
    }
   ],
   "source": [
    "tictactoe.dtypes"
   ]
  },
  {
   "cell_type": "code",
   "execution_count": 5,
   "metadata": {},
   "outputs": [],
   "source": [
    "tictactoe=tictactoe.apply(lambda x: x.cat.codes if x.dtype.name == 'category' else x)"
   ]
  },
  {
   "cell_type": "code",
   "execution_count": 6,
   "metadata": {},
   "outputs": [
    {
     "data": {
      "text/plain": [
       "top-left-square         int8\n",
       "top-middle-square       int8\n",
       "top-right-square        int8\n",
       "middle-left-square      int8\n",
       "middle-middle-square    int8\n",
       "middle-right-square     int8\n",
       "bottom-left-square      int8\n",
       "bottom-middle-square    int8\n",
       "bottom-right-square     int8\n",
       "Class                   int8\n",
       "dtype: object"
      ]
     },
     "execution_count": 6,
     "metadata": {},
     "output_type": "execute_result"
    }
   ],
   "source": [
    "tictactoe.dtypes"
   ]
  },
  {
   "cell_type": "markdown",
   "metadata": {},
   "source": [
    "### It is shown that each categorical column has its unique values"
   ]
  },
  {
   "cell_type": "code",
   "execution_count": 7,
   "metadata": {},
   "outputs": [
    {
     "data": {
      "text/html": [
       "<div>\n",
       "<style scoped>\n",
       "    .dataframe tbody tr th:only-of-type {\n",
       "        vertical-align: middle;\n",
       "    }\n",
       "\n",
       "    .dataframe tbody tr th {\n",
       "        vertical-align: top;\n",
       "    }\n",
       "\n",
       "    .dataframe thead th {\n",
       "        text-align: right;\n",
       "    }\n",
       "</style>\n",
       "<table border=\"1\" class=\"dataframe\">\n",
       "  <thead>\n",
       "    <tr style=\"text-align: right;\">\n",
       "      <th></th>\n",
       "      <th>top-left-square</th>\n",
       "      <th>top-middle-square</th>\n",
       "      <th>top-right-square</th>\n",
       "      <th>middle-left-square</th>\n",
       "      <th>middle-middle-square</th>\n",
       "      <th>middle-right-square</th>\n",
       "      <th>bottom-left-square</th>\n",
       "      <th>bottom-middle-square</th>\n",
       "      <th>bottom-right-square</th>\n",
       "      <th>Class</th>\n",
       "    </tr>\n",
       "  </thead>\n",
       "  <tbody>\n",
       "    <tr>\n",
       "      <th>0</th>\n",
       "      <td>2</td>\n",
       "      <td>2</td>\n",
       "      <td>2</td>\n",
       "      <td>2</td>\n",
       "      <td>1</td>\n",
       "      <td>1</td>\n",
       "      <td>2</td>\n",
       "      <td>1</td>\n",
       "      <td>1</td>\n",
       "      <td>1</td>\n",
       "    </tr>\n",
       "    <tr>\n",
       "      <th>1</th>\n",
       "      <td>2</td>\n",
       "      <td>2</td>\n",
       "      <td>2</td>\n",
       "      <td>2</td>\n",
       "      <td>1</td>\n",
       "      <td>1</td>\n",
       "      <td>1</td>\n",
       "      <td>2</td>\n",
       "      <td>1</td>\n",
       "      <td>1</td>\n",
       "    </tr>\n",
       "    <tr>\n",
       "      <th>2</th>\n",
       "      <td>2</td>\n",
       "      <td>2</td>\n",
       "      <td>2</td>\n",
       "      <td>2</td>\n",
       "      <td>1</td>\n",
       "      <td>1</td>\n",
       "      <td>1</td>\n",
       "      <td>1</td>\n",
       "      <td>2</td>\n",
       "      <td>1</td>\n",
       "    </tr>\n",
       "    <tr>\n",
       "      <th>3</th>\n",
       "      <td>2</td>\n",
       "      <td>2</td>\n",
       "      <td>2</td>\n",
       "      <td>2</td>\n",
       "      <td>1</td>\n",
       "      <td>1</td>\n",
       "      <td>1</td>\n",
       "      <td>0</td>\n",
       "      <td>0</td>\n",
       "      <td>1</td>\n",
       "    </tr>\n",
       "    <tr>\n",
       "      <th>4</th>\n",
       "      <td>2</td>\n",
       "      <td>2</td>\n",
       "      <td>2</td>\n",
       "      <td>2</td>\n",
       "      <td>1</td>\n",
       "      <td>1</td>\n",
       "      <td>0</td>\n",
       "      <td>1</td>\n",
       "      <td>0</td>\n",
       "      <td>1</td>\n",
       "    </tr>\n",
       "  </tbody>\n",
       "</table>\n",
       "</div>"
      ],
      "text/plain": [
       "   top-left-square  top-middle-square  top-right-square  middle-left-square  \\\n",
       "0                2                  2                 2                   2   \n",
       "1                2                  2                 2                   2   \n",
       "2                2                  2                 2                   2   \n",
       "3                2                  2                 2                   2   \n",
       "4                2                  2                 2                   2   \n",
       "\n",
       "   middle-middle-square  middle-right-square  bottom-left-square  \\\n",
       "0                     1                    1                   2   \n",
       "1                     1                    1                   1   \n",
       "2                     1                    1                   1   \n",
       "3                     1                    1                   1   \n",
       "4                     1                    1                   0   \n",
       "\n",
       "   bottom-middle-square  bottom-right-square  Class  \n",
       "0                     1                    1      1  \n",
       "1                     2                    1      1  \n",
       "2                     1                    2      1  \n",
       "3                     0                    0      1  \n",
       "4                     1                    0      1  "
      ]
     },
     "execution_count": 7,
     "metadata": {},
     "output_type": "execute_result"
    }
   ],
   "source": [
    "tictactoe.head()"
   ]
  },
  {
   "cell_type": "markdown",
   "metadata": {},
   "source": [
    "### By counting the number of positive and negative we can see that the datasets has more number of postive than negative values hence it is unbalanced"
   ]
  },
  {
   "cell_type": "code",
   "execution_count": 8,
   "metadata": {},
   "outputs": [
    {
     "data": {
      "text/plain": [
       "1    626\n",
       "0    332\n",
       "Name: Class, dtype: int64"
      ]
     },
     "execution_count": 8,
     "metadata": {},
     "output_type": "execute_result"
    }
   ],
   "source": [
    "tictactoe['Class'].value_counts()"
   ]
  },
  {
   "cell_type": "markdown",
   "metadata": {},
   "source": [
    "### The solution to make the dataset balanced is using stratified sampling.Stratified sampling is a sampling method where the researcher divides the population into separate groups which is called strata then a probability sample is drawn from each group."
   ]
  },
  {
   "cell_type": "code",
   "execution_count": 9,
   "metadata": {},
   "outputs": [],
   "source": [
    "def stratify_sample(df, col, samples):\n",
    "    n = min(samples, df[col].value_counts().min())\n",
    "    df_ = df.groupby(col).apply(lambda x: x.sample(n))\n",
    "    df_.index = df_.index.droplevel(0)\n",
    "    return df_"
   ]
  },
  {
   "cell_type": "code",
   "execution_count": 10,
   "metadata": {},
   "outputs": [],
   "source": [
    "tictactoe_stratified=stratify_sample(tictactoe, 'Class', 1000)"
   ]
  },
  {
   "cell_type": "markdown",
   "metadata": {},
   "source": [
    "### After stratified sampling the number of positive and negative is equal which makes the dataset balanced"
   ]
  },
  {
   "cell_type": "code",
   "execution_count": 11,
   "metadata": {},
   "outputs": [
    {
     "data": {
      "text/plain": [
       "1    332\n",
       "0    332\n",
       "Name: Class, dtype: int64"
      ]
     },
     "execution_count": 11,
     "metadata": {},
     "output_type": "execute_result"
    }
   ],
   "source": [
    "tictactoe_stratified['Class'].value_counts()"
   ]
  },
  {
   "cell_type": "code",
   "execution_count": 12,
   "metadata": {},
   "outputs": [
    {
     "data": {
      "text/html": [
       "<div>\n",
       "<style scoped>\n",
       "    .dataframe tbody tr th:only-of-type {\n",
       "        vertical-align: middle;\n",
       "    }\n",
       "\n",
       "    .dataframe tbody tr th {\n",
       "        vertical-align: top;\n",
       "    }\n",
       "\n",
       "    .dataframe thead th {\n",
       "        text-align: right;\n",
       "    }\n",
       "</style>\n",
       "<table border=\"1\" class=\"dataframe\">\n",
       "  <thead>\n",
       "    <tr style=\"text-align: right;\">\n",
       "      <th></th>\n",
       "      <th>top-left-square</th>\n",
       "      <th>top-middle-square</th>\n",
       "      <th>top-right-square</th>\n",
       "      <th>middle-left-square</th>\n",
       "      <th>middle-middle-square</th>\n",
       "      <th>middle-right-square</th>\n",
       "      <th>bottom-left-square</th>\n",
       "      <th>bottom-middle-square</th>\n",
       "      <th>bottom-right-square</th>\n",
       "      <th>Class</th>\n",
       "    </tr>\n",
       "  </thead>\n",
       "  <tbody>\n",
       "    <tr>\n",
       "      <th>753</th>\n",
       "      <td>1</td>\n",
       "      <td>2</td>\n",
       "      <td>2</td>\n",
       "      <td>1</td>\n",
       "      <td>2</td>\n",
       "      <td>0</td>\n",
       "      <td>1</td>\n",
       "      <td>0</td>\n",
       "      <td>0</td>\n",
       "      <td>0</td>\n",
       "    </tr>\n",
       "    <tr>\n",
       "      <th>856</th>\n",
       "      <td>1</td>\n",
       "      <td>0</td>\n",
       "      <td>2</td>\n",
       "      <td>1</td>\n",
       "      <td>2</td>\n",
       "      <td>2</td>\n",
       "      <td>1</td>\n",
       "      <td>2</td>\n",
       "      <td>1</td>\n",
       "      <td>0</td>\n",
       "    </tr>\n",
       "    <tr>\n",
       "      <th>673</th>\n",
       "      <td>2</td>\n",
       "      <td>1</td>\n",
       "      <td>2</td>\n",
       "      <td>2</td>\n",
       "      <td>1</td>\n",
       "      <td>2</td>\n",
       "      <td>1</td>\n",
       "      <td>1</td>\n",
       "      <td>0</td>\n",
       "      <td>0</td>\n",
       "    </tr>\n",
       "    <tr>\n",
       "      <th>678</th>\n",
       "      <td>2</td>\n",
       "      <td>1</td>\n",
       "      <td>2</td>\n",
       "      <td>2</td>\n",
       "      <td>0</td>\n",
       "      <td>2</td>\n",
       "      <td>1</td>\n",
       "      <td>1</td>\n",
       "      <td>1</td>\n",
       "      <td>0</td>\n",
       "    </tr>\n",
       "    <tr>\n",
       "      <th>874</th>\n",
       "      <td>1</td>\n",
       "      <td>0</td>\n",
       "      <td>0</td>\n",
       "      <td>1</td>\n",
       "      <td>2</td>\n",
       "      <td>2</td>\n",
       "      <td>1</td>\n",
       "      <td>2</td>\n",
       "      <td>0</td>\n",
       "      <td>0</td>\n",
       "    </tr>\n",
       "  </tbody>\n",
       "</table>\n",
       "</div>"
      ],
      "text/plain": [
       "     top-left-square  top-middle-square  top-right-square  middle-left-square  \\\n",
       "753                1                  2                 2                   1   \n",
       "856                1                  0                 2                   1   \n",
       "673                2                  1                 2                   2   \n",
       "678                2                  1                 2                   2   \n",
       "874                1                  0                 0                   1   \n",
       "\n",
       "     middle-middle-square  middle-right-square  bottom-left-square  \\\n",
       "753                     2                    0                   1   \n",
       "856                     2                    2                   1   \n",
       "673                     1                    2                   1   \n",
       "678                     0                    2                   1   \n",
       "874                     2                    2                   1   \n",
       "\n",
       "     bottom-middle-square  bottom-right-square  Class  \n",
       "753                     0                    0      0  \n",
       "856                     2                    1      0  \n",
       "673                     1                    0      0  \n",
       "678                     1                    1      0  \n",
       "874                     2                    0      0  "
      ]
     },
     "execution_count": 12,
     "metadata": {},
     "output_type": "execute_result"
    }
   ],
   "source": [
    "tictactoe_stratified.head()"
   ]
  },
  {
   "cell_type": "code",
   "execution_count": 13,
   "metadata": {},
   "outputs": [
    {
     "name": "stdout",
     "output_type": "stream",
     "text": [
      "x_train : (531, 9)\n",
      "x_test : (133, 9)\n",
      "y_train : (531,)\n",
      "y_test : (133,)\n"
     ]
    }
   ],
   "source": [
    "features=['top-left-square','top-middle-square','top-right-square','middle-left-square','middle-middle-square','middle-right-square','bottom-left-square','bottom-middle-square','bottom-right-square']\n",
    "Xdata = tictactoe_stratified[features]\n",
    "Ydata = tictactoe_stratified['Class']\n",
    "\n",
    "x_train, x_test, y_train, y_test =train_test_split(Xdata,Ydata,train_size=0.8,test_size=0.2,random_state=0)\n",
    "\n",
    "print('x_train :',x_train.shape)\n",
    "print('x_test :',x_test.shape)\n",
    "print('y_train :',y_train.shape)\n",
    "print('y_test :',y_test.shape)"
   ]
  },
  {
   "cell_type": "markdown",
   "metadata": {},
   "source": [
    "### Reshaping the data"
   ]
  },
  {
   "cell_type": "code",
   "execution_count": 16,
   "metadata": {},
   "outputs": [],
   "source": [
    "y_train=y_train.reshape(-1,1)\n",
    "y_test=y_train.reshape(-1,1)"
   ]
  },
  {
   "cell_type": "markdown",
   "metadata": {},
   "source": [
    "# Logistic Regression"
   ]
  },
  {
   "cell_type": "markdown",
   "metadata": {},
   "source": [
    "### Logistic Regression is a method in machine learning for classification problems to output discrete values\n",
    "### Step length bolddriver algorithm function\n",
    "The Bold Driver Heuristic makes the assumption that smaller step sizes are needed when closer to the optimum.It adjusts the step size based on the value of f (x) at time t.If the value of f (x) grows, the step size must decrease.If the value of f (x) decreases, the step size can be larger for faster convergence."
   ]
  },
  {
   "cell_type": "code",
   "execution_count": 17,
   "metadata": {},
   "outputs": [],
   "source": [
    "def bolddriver(x_train,y_train,beta_hat,lr,mhuplus = 1.1, mhuminus = 0.5):\n",
    "    \n",
    "    lr = lr*mhuplus\n",
    "    contiter = True\n",
    "    iterations = 0\n",
    "    \n",
    "    y_hat=logistic_function(x_train,beta_hat) # The current predicted value of Y\n",
    "    l_old=log_likelihood(x_train, y_train, beta_hat) \n",
    "    \n",
    "    while contiter:\n",
    "\n",
    "        grad_beta = (np.dot(np.transpose(x_train), y_train - y_hat))\n",
    "        beta_hat = beta_hat+learn_rate*(np.dot(np.transpose(x_train), y_train - y_hat))\n",
    "        \n",
    "\n",
    "        y_hat=logistic_function(x_train,beta_hat) # The current predicted value of Y\n",
    "        l=log_likelihood(x_train, y_train, beta_hat)\n",
    "        \n",
    "        \n",
    "        if l - l_old <= 0:\n",
    "            lr = lr*mhuminus\n",
    "            iterations += 1\n",
    "        else:\n",
    "            return lr\n",
    "        \n",
    "        if iterations == 250:\n",
    "            break\n",
    "    return lr"
   ]
  },
  {
   "cell_type": "code",
   "execution_count": 99,
   "metadata": {},
   "outputs": [],
   "source": [
    "def log_likelihood(x, y, beta):\n",
    "    z = np.dot(x, beta)\n",
    "    log = np.sum( y*z - np.log(1 + np.exp(z)) )\n",
    "    return log\n",
    "\n",
    "def gradient_ascent(X, h, y):\n",
    "    return np.dot(X.T, y - h)\n",
    "\n",
    "def logistic_function(X, beta):\n",
    "    z = x_train.dot(beta)\n",
    "    return 1 / (1 + np.exp(-z))   \n",
    "\n",
    "logloss = lambda y,ypred: np.mean((y*np.log(ypred)+(1-y)*np.log(1-ypred)))\n",
    "cost = lambda y,ypred: np.mean((y - ypred)**2)\n"
   ]
  },
  {
   "cell_type": "markdown",
   "metadata": {},
   "source": [
    "# logistic regression using stochastic gradient decent"
   ]
  },
  {
   "cell_type": "code",
   "execution_count": 100,
   "metadata": {},
   "outputs": [
    {
     "name": "stdout",
     "output_type": "stream",
     "text": [
      "epochs: 0 log_likelihood: -1572.7702094809206 learning rate: 1.1000000000000001e-05 loss:[0.0001659] Logloss : [-2.96190247]\n",
      "epochs: 5 log_likelihood: 15.866499147753984 learning rate: 1.771561000000001e-05 loss:[0.00032607] Logloss : [-2.83705481]\n",
      "epochs: 10 log_likelihood: 25.29320499976211 learning rate: 2.8531167061100026e-05 loss:[0.00071977] Logloss : [-2.63756885]\n",
      "epochs: 15 log_likelihood: 39.713027286245506 learning rate: 4.594972986357222e-05 loss:[0.00188741] Logloss : [-2.32221056]\n",
      "epochs: 20 log_likelihood: 58.959901423156566 learning rate: 7.400249944258173e-05 loss:[0.00610155] Logloss : [-1.8414249]\n",
      "epochs: 25 log_likelihood: 66.30669580749566 learning rate: 0.00011918176537727237 loss:[0.01903522] Logloss : [-1.21854349]\n",
      "epochs: 30 log_likelihood: 21.28956081438355 learning rate: 0.000191943424957751 loss:[0.01340631] Logloss : [-0.82123208]\n",
      "epochs: 35 log_likelihood: 3.1655026096966594 learning rate: 0.0003091268053287077 loss:[0.00262716] Logloss : [-0.75887498]\n",
      "epochs: 40 log_likelihood: 3.350502702297149 learning rate: 0.0004978518112499372 loss:[0.00288143] Logloss : [-0.72867873]\n",
      "epochs: 45 log_likelihood: 3.1396682836345917 learning rate: 0.0008017953205361369 loss:[0.00285351] Logloss : [-0.69760584]\n",
      "epochs: 50 log_likelihood: 2.024206539537886 learning rate: 0.0012912993816766541 loss:[0.00184463] Logloss : [-0.67381438]\n",
      "epochs: 55 log_likelihood: 0.7422588835455599 learning rate: 0.002079650567184069 loss:[0.00062018] Logloss : [-0.66229057]\n",
      "epochs: 60 log_likelihood: 0.11657514598670105 learning rate: 0.003349298034955616 loss:[7.01510142e-05] Logloss : [-0.65939972]\n",
      "epochs: 65 log_likelihood: 0.0 learning rate: 2.981386663661941e-78 loss:[0.] Logloss : [-0.65913735]\n"
     ]
    }
   ],
   "source": [
    "m_train,n_features = x_train.shape\n",
    "\n",
    "num_iter     = 1000\n",
    "learn_rate   = 0.00001\n",
    "\n",
    "beta_hat     = np.random.random(n_features).reshape(-1,1)\n",
    "relative_l= []\n",
    "relative_loss=[]\n",
    "loglosstest=[]\n",
    "\n",
    "y_hat=logistic_function(x_train,beta_hat)\n",
    "l=0\n",
    "l_old=log_likelihood(x_train, y_train, beta_hat)\n",
    "\n",
    "chunk_size = 20\n",
    "\n",
    "for i in range(num_iter):\n",
    "    \n",
    "        loss_old  = cost(y_train,y_hat)\n",
    "    \n",
    "        for chunk in range(len(x_train)//chunk_size):\n",
    "            \n",
    "            x_chunk = x_train[chunk*chunk_size:min((chunk+1)*chunk_size,len(x_train))]\n",
    "            y_chunk = y_train[chunk*chunk_size:min((chunk+1)*chunk_size,len(y_train))]\n",
    "            \n",
    "            y_hat=logistic_function(x_chunk,beta_hat)\n",
    "            \n",
    "            beta_hat = beta_hat+learn_rate*(np.dot(np.transpose(x_chunk), y_chunk - y_hat))\n",
    "        \n",
    "    \n",
    "        \n",
    "    \n",
    "        learn_rate =  bolddriver(x_train,y_train,beta_hat,learn_rate,mhuplus = 1.1, mhuminus = 0.5)\n",
    "    \n",
    "        y_hat=logistic_function(x_train,beta_hat)\n",
    "    \n",
    "        loss_new  = cost(y_train,y_hat)\n",
    "    \n",
    "    \n",
    "        l_old=l\n",
    "        l=log_likelihood(x_train, y_train, beta_hat)\n",
    "\n",
    "        relative_l.append(l-l_old)\n",
    "        relative_loss.append(np.abs(loss_new.values-loss_old.values))\n",
    "        loglosstest.append(logloss(y_test,y_hat))\n",
    "\n",
    "        if i % 5 == 0:\n",
    "            print(f\"epochs: {i} log_likelihood: {(l-l_old)} learning rate: {learn_rate} loss:{np.abs(loss_new.values-loss_old.values)} Logloss : {logloss(y_test,y_hat).values}\")\n",
    "\n",
    "        last_epoch=i+1\n",
    "\n",
    "        if np.abs(l-l_old) == 0:\n",
    "            break    "
   ]
  },
  {
   "cell_type": "code",
   "execution_count": 82,
   "metadata": {},
   "outputs": [
    {
     "data": {
      "text/plain": [
       "[<matplotlib.lines.Line2D at 0x1a1ddbc5be0>]"
      ]
     },
     "execution_count": 82,
     "metadata": {},
     "output_type": "execute_result"
    },
    {
     "data": {
      "image/png": "[encoded data removed]",
      "text/plain": [
       "<Figure size 432x288 with 1 Axes>"
      ]
     },
     "metadata": {
      "needs_background": "light"
     },
     "output_type": "display_data"
    }
   ],
   "source": [
    "plt.xlabel(\"epochs\")\n",
    "plt.ylabel(\"log_likelihood\")\n",
    "plt.plot( np.arange(last_epoch),relative_l,'r')"
   ]
  },
  {
   "cell_type": "code",
   "execution_count": 83,
   "metadata": {},
   "outputs": [
    {
     "data": {
      "text/plain": [
       "[<matplotlib.lines.Line2D at 0x1a1ddb203c8>]"
      ]
     },
     "execution_count": 83,
     "metadata": {},
     "output_type": "execute_result"
    },
    {
     "data": {
      "image/png": "[encoded data removed]",
      "text/plain": [
       "<Figure size 432x288 with 1 Axes>"
      ]
     },
     "metadata": {
      "needs_background": "light"
     },
     "output_type": "display_data"
    }
   ],
   "source": [
    "plt.xlabel(\"epochs\")\n",
    "plt.ylabel(\"differential cost\")\n",
    "plt.plot( np.arange(last_epoch),relative_loss,'r')"
   ]
  },
  {
   "cell_type": "code",
   "execution_count": 78,
   "metadata": {},
   "outputs": [
    {
     "data": {
      "text/plain": [
       "[<matplotlib.lines.Line2D at 0x1a1ddacb160>]"
      ]
     },
     "execution_count": 78,
     "metadata": {},
     "output_type": "execute_result"
    },
    {
     "data": {
      "image/png": "[encoded data removed]",
      "text/plain": [
       "<Figure size 432x288 with 1 Axes>"
      ]
     },
     "metadata": {
      "needs_background": "light"
     },
     "output_type": "display_data"
    }
   ],
   "source": [
    "plt.xlabel(\"epochs\")\n",
    "plt.ylabel(\"logloss\")\n",
    "plt.plot( np.arange(last_epoch),loglosstest,'r')"
   ]
  },
  {
   "cell_type": "markdown",
   "metadata": {},
   "source": [
    "# Implement Newton Algorithm (learning rate)"
   ]
  },
  {
   "cell_type": "markdown",
   "metadata": {},
   "source": [
    "Newton's method is a second-order optimization algorithm that can help us find the best weights in our logistic function in fewer iterations compared to batch gradient descent.\n",
    "\n",
    "The generalization of Newton’s method to a multidimensional setting (also called the Newton-Raphson method) is given by:\n",
    "\n",
    "Where the Hessian is represented by:\n",
    "\n",
    "For Logistic Regression, the Hessian is given by:\n",
    "\n",
    "$$\n",
    "Hf(\\beta) = -X^TWX\n",
    "$$\n",
    "and the gradient is:\n",
    "\n",
    "$$\n",
    "\\nabla f(\\beta) = X^T(y-p)\n",
    "$$\n",
    "where$$\n",
    "W := \\text{diag}\\left(p(1-p)\\right)\n",
    "$$\n",
    "and $p$ are the predicted probabilites computed at the current value of $\\beta$."
   ]
  },
  {
   "cell_type": "code",
   "execution_count": 93,
   "metadata": {},
   "outputs": [],
   "source": [
    "def sigmoid(x):\n",
    "    return 1/(1+np.exp(-x))"
   ]
  },
  {
   "cell_type": "code",
   "execution_count": 94,
   "metadata": {},
   "outputs": [],
   "source": [
    "def newton(beta0, y, X, lr):\n",
    "    \n",
    "    p = np.array(sigmoid(X.dot(beta0[:,0]))).T  \n",
    "    W = np.diag((p*(1-p))) \n",
    "    \n",
    "    \n",
    "    hess = np.dot((np.dot(X.T,W)),X)  \n",
    "    grad = (np.transpose(X)).dot(y-p)  \n",
    "     \n",
    "    \n",
    "    s =lr*(np.dot(np.linalg.inv(hess), grad))      \n",
    "    beta = beta0 + s\n",
    "    \n",
    "    return beta"
   ]
  },
  {
   "cell_type": "markdown",
   "metadata": {},
   "source": [
    "### Using the Newton method we noticed that the convergence is faster because it needed only 5 iteration to converge."
   ]
  },
  {
   "cell_type": "code",
   "execution_count": 119,
   "metadata": {},
   "outputs": [
    {
     "name": "stdout",
     "output_type": "stream",
     "text": [
      "epochs: 0 log_likelihood: 350.07633312488116 loss:[0.26892146]\n",
      "epochs: 1 log_likelihood: -0.08185733152396324 loss:[3.09444334e-06]\n",
      "epochs: 2 log_likelihood: -4.909220149329485e-05 loss:[1.74056729e-06]\n",
      "epochs: 3 log_likelihood: -9.544464774080552e-09 loss:[2.29948263e-08]\n",
      "epochs: 4 log_likelihood: -1.8189894035458565e-12 loss:[2.91486307e-10]\n",
      "epochs: 5 log_likelihood: 0.0 loss:[3.71214171e-12]\n"
     ]
    }
   ],
   "source": [
    "num_iter = 100\n",
    " \n",
    "lr =0.001\n",
    "\n",
    "relative_l_newton=[]\n",
    "relative_loss_newton=[]\n",
    "loglosstest_newton=[]\n",
    "\n",
    "beta_old, beta = np.ones((n_features,1)), np.zeros((n_features,1))\n",
    "l_newton=0\n",
    "y_hat_newton=logistic_function(x_train,beta_old)\n",
    "l_old_newton=-log_likelihood(x_train, y_train, beta_old)\n",
    "\n",
    "for i in range(num_iter):\n",
    "    \n",
    "    loss_old_newton  = cost(y_train,y_hat_newton)\n",
    "    beta_old = beta\n",
    "    \n",
    "    beta = newton_step(beta, y_train, x_train, reg_term)\n",
    "    y_hat_newton=logistic_function(x_train,beta)\n",
    "    \n",
    "    loss_new_newton  = cost(y_train,y_hat_newton)\n",
    "    \n",
    "    l_old_newton=l_newton\n",
    "    l_newton=-log_likelihood(x_train, y_train, beta)\n",
    "    relative_l_newton.append(l_newton-l_old_newton)\n",
    "    relative_loss_newton.append(np.abs(loss_new_newton.values-loss_old_newton.values))\n",
    "    \n",
    "   \n",
    "    loglosstest_newton.append(-logloss(y_test,y_hat_newton))\n",
    "    \n",
    "    if i % 1 == 0:\n",
    "        print(f\"epochs: {i} log_likelihood: {(l_newton-l_old_newton)} loss:{np.abs(loss_new_newton.values-loss_old_newton.values)}\")\n",
    "    \n",
    "    \n",
    "    \n",
    "    if np.abs(l_newton-l_old_newton) == 0:\n",
    "        break\n",
    "    "
   ]
  },
  {
   "cell_type": "code",
   "execution_count": 120,
   "metadata": {},
   "outputs": [
    {
     "data": {
      "text/plain": [
       "[<matplotlib.lines.Line2D at 0x1a1deea8160>]"
      ]
     },
     "execution_count": 120,
     "metadata": {},
     "output_type": "execute_result"
    },
    {
     "data": {
      "image/png": "[encoded data removed]",
      "text/plain": [
       "<Figure size 432x288 with 1 Axes>"
      ]
     },
     "metadata": {
      "needs_background": "light"
     },
     "output_type": "display_data"
    }
   ],
   "source": [
    "plt.xlabel(\"epochs\")\n",
    "plt.ylabel(\"log_likelihood\")\n",
    "plt.plot( np.arange(len(relative_l_newton)),relative_l_newton,'r')"
   ]
  },
  {
   "cell_type": "code",
   "execution_count": 121,
   "metadata": {},
   "outputs": [
    {
     "data": {
      "text/plain": [
       "[<matplotlib.lines.Line2D at 0x1a1def06198>]"
      ]
     },
     "execution_count": 121,
     "metadata": {},
     "output_type": "execute_result"
    },
    {
     "data": {
      "image/png": "[encoded data removed]",
      "text/plain": [
       "<Figure size 432x288 with 1 Axes>"
      ]
     },
     "metadata": {
      "needs_background": "light"
     },
     "output_type": "display_data"
    }
   ],
   "source": [
    "plt.xlabel(\"epochs\")\n",
    "plt.ylabel(\"cost\")\n",
    "plt.plot( np.arange(len(relative_loss_newton)),relative_loss_newton,'r')"
   ]
  },
  {
   "cell_type": "code",
   "execution_count": 122,
   "metadata": {},
   "outputs": [
    {
     "data": {
      "text/plain": [
       "[<matplotlib.lines.Line2D at 0x1a1def5a780>]"
      ]
     },
     "execution_count": 122,
     "metadata": {},
     "output_type": "execute_result"
    },
    {
     "data": {
      "image/png": "[encoded data removed]",
      "text/plain": [
       "<Figure size 432x288 with 1 Axes>"
      ]
     },
     "metadata": {
      "needs_background": "light"
     },
     "output_type": "display_data"
    }
   ],
   "source": [
    "plt.xlabel(\"epochs\")\n",
    "plt.ylabel(\"logloss\")\n",
    "plt.plot( np.arange(len(loglosstest_newton)),loglosstest_newton,'r')"
   ]
  }
 ],
 "metadata": {
  "kernelspec": {
   "display_name": "Python 3 (ipykernel)",
   "language": "python",
   "name": "python3"
  },
  "language_info": {
   "codemirror_mode": {
    "name": "ipython",
    "version": 3
   },
   "file_extension": ".py",
   "mimetype": "text/x-python",
   "name": "python",
   "nbconvert_exporter": "python",
   "pygments_lexer": "ipython3",
   "version": "3.11.7"
  }
 },
 "nbformat": 4,
 "nbformat_minor": 4
}
